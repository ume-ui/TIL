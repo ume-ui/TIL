{
 "cells": [
  {
   "cell_type": "markdown",
   "id": "1394b620",
   "metadata": {},
   "source": [
    "## UV 파이썬에 설치하기 \n",
    "\n",
    "1. uv init"
   ]
  },
  {
   "cell_type": "markdown",
   "id": "8377ac80",
   "metadata": {},
   "source": [
    "' uv init '\n",
    "\n",
    "' uv venv\n",
    "\n",
    "'.\\venv\\scripts\\activate -> 가상환경 들어가기 \n",
    "\n",
    "uv add 내가 설치해야 하는 팔\n",
    "\n",
    "\n",
    "(TIL) C:\\GIT TEST\\TIL>      - > 가상환경에 들어감 "
   ]
  },
  {
   "cell_type": "markdown",
   "id": "1840c09f",
   "metadata": {},
   "source": [
    "- uv add ipykernel : 주피터 노트북 \n",
    "- uv pip install .  -> 다른 사람의 라이브러리를 한번에 가져올 수 있음 ()"
   ]
  },
  {
   "cell_type": "code",
   "execution_count": 2,
   "id": "1f136964",
   "metadata": {},
   "outputs": [
    {
     "data": {
      "text/plain": [
       "3"
      ]
     },
     "execution_count": 2,
     "metadata": {},
     "output_type": "execute_result"
    }
   ],
   "source": [
    "a = 1 \n",
    "b = 2 \n",
    "a + b"
   ]
  }
 ],
 "metadata": {
  "kernelspec": {
   "display_name": "til (3.10.18)",
   "language": "python",
   "name": "python3"
  },
  "language_info": {
   "codemirror_mode": {
    "name": "ipython",
    "version": 3
   },
   "file_extension": ".py",
   "mimetype": "text/x-python",
   "name": "python",
   "nbconvert_exporter": "python",
   "pygments_lexer": "ipython3",
   "version": "3.10.18"
  }
 },
 "nbformat": 4,
 "nbformat_minor": 5
}
